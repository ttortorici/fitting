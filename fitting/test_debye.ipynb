{
 "cells": [
  {
   "cell_type": "code",
   "execution_count": null,
   "metadata": {},
   "outputs": [],
   "source": [
    "from pathlib import Path\n",
    "import numpy as np\n",
    "import matplotlib.pylab as plt\n",
    "import matplotlib\n",
    "matplotlib.rcParams['font.family'] = 'STIXGeneral'\n",
    "matplotlib.rcParams[\"mathtext.fontset\"] = \"cm\"\n",
    "\n",
    "eps0 = 8854.18781  # fF/m\n",
    "\n",
    "meander_length = 1e-3 * 50\n",
    "film_thickness = 1e-9\n",
    "G_x = meander_length * film_thickness / 5e-6"
   ]
  },
  {
   "cell_type": "code",
   "execution_count": null,
   "metadata": {},
   "outputs": [],
   "source": [
    "def susceptibility_noninteracting(temperature: np.ndarray, coupling_energy: float):\n",
    "        sech = 1.0 / np.cosh(coupling_energy / (2.0 * temperature))\n",
    "        return sech * sech\n",
    "\n",
    "def fitting_function(temperature: np.ndarray, angular_frequency, curie_temperature: float,\n",
    "                     ln_attempt_time1: float,\n",
    "                     activation_energy1: float,\n",
    "                     coupling_energy1: float,\n",
    "                     populations1: np.ndarray,\n",
    "                     emat0: float, emat1: float,\n",
    "                     bare0: float, bare1: float, bare2: float, \n",
    "                     td0: float, td1: float, td2: float):\n",
    "    tau1 = np.exp(ln_attempt_time1 + (activation_energy1) / temperature)     # shape (num_relax_times, 1, 1)\n",
    "    temperature_300 = temperature - 300.0\n",
    "    temperature_curie_inv = 1. / (temperature - curie_temperature)\n",
    "    omega_tau1 = angular_frequency * tau1\n",
    "    real1 = populations1 * susceptibility_noninteracting(temperature, coupling_energy1) / (1.0 + omega_tau1 * omega_tau1) * temperature_curie_inv\n",
    "    imag1 = real1 * omega_tau1\n",
    "    # geometric_factor = bare0 / 4.8\n",
    "    capacitance = ((emat0 - 1) + emat1 * temperature + real1)  # * geometric_factor\n",
    "    imaginary_capacitance = imag1  # * geometric_factor\n",
    "    capacitance = eps0 * G_x * capacitance\n",
    "    imaginary_capacitance = eps0 * G_x * imaginary_capacitance\n",
    "    return capacitance, imaginary_capacitance"
   ]
  },
  {
   "cell_type": "code",
   "execution_count": null,
   "metadata": {},
   "outputs": [],
   "source": [
    "temperature = np.linspace(4, 100, 1000)\n",
    "temperature = np.stack((temperature, temperature, temperature)).T\n",
    "frequencies = np.array([100, 1000, 10000])\n",
    "freq_num = len(frequencies)\n",
    "colors = [\"k\", \"b\", \"r\"]\n",
    "\n",
    "capacitance, imaginary_capacitance = fitting_function(temperature, frequencies * 2 * np.pi, 0, -29,\n",
    "                                                      1000, 0, 100, 1.235, 1e-5, 1, 0, 0, 0, 0, 0)\n",
    "\n",
    "fig, axes = plt.subplots(2, 1, figsize=(5, 7))\n",
    "# axes[0].set_title()\n",
    "for ax in axes:\n",
    "    ax.grid(linestyle='dotted')\n",
    "    ax.set_xlabel('Temperature (K)')\n",
    "    ax.xaxis.set_minor_locator(matplotlib.ticker.AutoMinorLocator())\n",
    "    ax.yaxis.set_minor_locator(matplotlib.ticker.AutoMinorLocator())\n",
    "    ax.tick_params(axis=\"both\", which=\"both\", direction=\"in\", top=True, right=True)\n",
    "\n",
    "axes[0].set_ylabel(r\"$\\Delta C = C' - C_b$ (fF)\")\n",
    "axes[1].set_ylabel(r\"$C'' = C'\\tan\\delta$ (fF)\")\n",
    "for ii in range(freq_num):\n",
    "    freq_name = str(int(frequencies[ii]))\n",
    "    if len(freq_name) > 3:\n",
    "        freq_name = freq_name[:-3] + \" kHz\"\n",
    "    else:\n",
    "        freq_name += \" Hz\"\n",
    "    axes[0].plot(temperature[:, ii], capacitance[:, ii], linewidth=2, color=colors[ii], label=freq_name)\n",
    "    axes[1].plot(temperature[:, ii], imaginary_capacitance[:, ii], linewidth=2, color=colors[ii])\n",
    "axes[0].legend(title=\"Frequency\")\n",
    "fig.tight_layout()\n",
    "# fig.savefig(\"example_debye.pdf\", dpi=300, bbox_inches=\"tight\")"
   ]
  }
 ],
 "metadata": {
  "kernelspec": {
   "display_name": "xrd",
   "language": "python",
   "name": "python3"
  },
  "language_info": {
   "name": "python",
   "version": "3.11.7"
  }
 },
 "nbformat": 4,
 "nbformat_minor": 2
}
