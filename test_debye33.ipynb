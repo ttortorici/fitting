{
 "cells": [
  {
   "cell_type": "code",
   "execution_count": 1,
   "metadata": {},
   "outputs": [
    {
     "name": "stdout",
     "output_type": "stream",
     "text": [
      "[WindowsPath('D:/OneDrive - UCB-O365/Rogerslab3/Teddy/TPP Films/Old films/2017/11 - Novemember/BTP/BDS/Calibration_TT2-17-15_Bare_1510274316_07_sorted.csv'), WindowsPath('D:/OneDrive - UCB-O365/Rogerslab3/Teddy/TPP Films/Old films/2017/11 - Novemember/BTP/BDS/Calibration_TT2-17-15_Bare_1510274316_07_sorted_rev-freq.csv')]\n",
      "[WindowsPath('D:/OneDrive - UCB-O365/Rogerslab3/Teddy/TPP Films/Old films/2017/11 - Novemember/BTP/BDS/HeliumCool_TT2-17-15_film_WYC103_1510686381_3_sorted.csv'), WindowsPath('D:/OneDrive - UCB-O365/Rogerslab3/Teddy/TPP Films/Old films/2017/11 - Novemember/BTP/BDS/HeliumCool_TT2-17-15_film_WYC103_1510686381_3_sorted_rev-freq.csv'), WindowsPath('D:/OneDrive - UCB-O365/Rogerslab3/Teddy/TPP Films/Old films/2017/11 - Novemember/BTP/BDS/HeliumCool_TT2-17-15_film_WYC103_1510694868_27_sorted.csv'), WindowsPath('D:/OneDrive - UCB-O365/Rogerslab3/Teddy/TPP Films/Old films/2017/11 - Novemember/BTP/BDS/HeliumCool_TT2-17-15_film_WYC103_1510694868_27_sorted_rev-freq.csv')]\n"
     ]
    }
   ],
   "source": [
    "from fitting.debye import Debye33\n",
    "from fitting.data import DataSet\n",
    "from pathlib import Path\n",
    "import numpy as np\n",
    "import matplotlib.pylab as plt\n",
    "import matplotlib\n",
    "matplotlib.rcParams['font.family'] = 'STIXGeneral'\n",
    "matplotlib.rcParams[\"mathtext.fontset\"] = \"cm\"\n",
    "%matplotlib widget\n",
    "\n",
    "dir = Path(r'D:\\OneDrive - UCB-O365\\Rogerslab3\\Teddy\\TPP Films\\Old films\\2017\\11 - Novemember\\BTP\\BDS')\n",
    "\n",
    "calibration_files = list(dir.glob(\"Calibration*\"))\n",
    "data_files = list(dir.glob(\"HeliumCool*\"))\n",
    "\n",
    "for file in calibration_files:\n",
    "    print(file)\n",
    "    cal = DataSet(file)\n",
    "    cal.fit()\n",
    "    cal.plot()\n",
    "    plt.show()\n"
   ]
  },
  {
   "cell_type": "code",
   "execution_count": null,
   "metadata": {},
   "outputs": [],
   "source": []
  }
 ],
 "metadata": {
  "kernelspec": {
   "display_name": "XRD",
   "language": "python",
   "name": "python3"
  },
  "language_info": {
   "codemirror_mode": {
    "name": "ipython",
    "version": 3
   },
   "file_extension": ".py",
   "mimetype": "text/x-python",
   "name": "python",
   "nbconvert_exporter": "python",
   "pygments_lexer": "ipython3",
   "version": "3.12.3"
  }
 },
 "nbformat": 4,
 "nbformat_minor": 2
}
