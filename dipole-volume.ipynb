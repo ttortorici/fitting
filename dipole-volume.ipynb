{
 "cells": [
  {
   "cell_type": "code",
   "execution_count": 4,
   "metadata": {},
   "outputs": [],
   "source": [
    "import numpy as np\n",
    "\n",
    "V = 10 * 12 * 12 * np.sqrt(3) * 0.5 * 1e-30 # cubic m\n",
    "p = 1.334e-29    # 4 debye\n",
    "p_sq = p * p\n",
    "eps0 = 8.85e-12  # F/m\n",
    "kB = 1.381e-23  # J/K\n",
    "N = .66\n",
    "u = p_sq / (4 * np.pi * eps0 * 1e-27)"
   ]
  },
  {
   "cell_type": "code",
   "execution_count": 5,
   "metadata": {},
   "outputs": [
    {
     "name": "stdout",
     "output_type": "stream",
     "text": [
      "115.86835622628362\n"
     ]
    }
   ],
   "source": [
    "print(u / kB)"
   ]
  },
  {
   "cell_type": "code",
   "execution_count": 6,
   "metadata": {},
   "outputs": [
    {
     "name": "stdout",
     "output_type": "stream",
     "text": [
      "770.5938198130226\n"
     ]
    }
   ],
   "source": [
    "print(u*1e-27*N *4*np.pi / (V*kB))"
   ]
  },
  {
   "cell_type": "code",
   "execution_count": null,
   "metadata": {},
   "outputs": [
    {
     "name": "stdout",
     "output_type": "stream",
     "text": [
      "12.264381553930788\n"
     ]
    }
   ],
   "source": [
    "eps = 5\n",
    "print(N/V * p_sq / (4*np.pi * eps0 * kB) / eps)"
   ]
  },
  {
   "cell_type": "code",
   "execution_count": null,
   "metadata": {},
   "outputs": [],
   "source": []
  }
 ],
 "metadata": {
  "kernelspec": {
   "display_name": "teddy",
   "language": "python",
   "name": "python3"
  },
  "language_info": {
   "codemirror_mode": {
    "name": "ipython",
    "version": 3
   },
   "file_extension": ".py",
   "mimetype": "text/x-python",
   "name": "python",
   "nbconvert_exporter": "python",
   "pygments_lexer": "ipython3",
   "version": "3.13.0"
  }
 },
 "nbformat": 4,
 "nbformat_minor": 2
}
